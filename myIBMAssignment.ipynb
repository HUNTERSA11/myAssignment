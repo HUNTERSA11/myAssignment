{
 "cells": [
  {
   "cell_type": "markdown",
   "id": "202b010c-426a-45b4-89a8-8d37dbb8d122",
   "metadata": {},
   "source": [
    "Title of my Notebook"
   ]
  },
  {
   "cell_type": "markdown",
   "id": "632e495c-6e28-40f6-994b-2247349c541c",
   "metadata": {},
   "source": [
    "Introduction: in this Jupyter Notebook we will be talking about some data science tools"
   ]
  },
  {
   "cell_type": "markdown",
   "id": "2c782113-8964-4eaa-bb11-6023e6119869",
   "metadata": {},
   "source": [
    "Data Science Languages\n",
    "The following are some of the popular programming languages used in data science:\n",
    "\n",
    "Python\n",
    "R\n",
    "SQL\n",
    "Java\n",
    "Scala"
   ]
  },
  {
   "cell_type": "markdown",
   "id": "e2da6a87-87a8-476d-a63d-9804ea93ca76",
   "metadata": {},
   "source": [
    "Data Science Libraries:\n",
    "\n",
    "NumPy\n",
    "Pandas\n",
    "Matplotlib\n",
    "Scikit-learn\n",
    "TensorFlow\n",
    "Keras\n",
    "Spark\n",
    "Seaborn"
   ]
  },
  {
   "cell_type": "markdown",
   "id": "94814cbf-7812-4d03-a81b-a3e10517cb44",
   "metadata": {},
   "source": [
    "## Data Science Tools\n",
    "\n",
    "| Tool | Description |\n",
    "| --- | --- |\n",
    "| Jupyter Notebook | Interactive web-based environment for data analysis and visualization |\n",
    "| RStudio | Integrated development environment (IDE) for R programming language |\n",
    "| Tableau | Data visualization and business intelligence software |\n",
    "| Apache Spark | Distributed computing system for large-scale data processing |\n",
    "| Git | Version control system for tracking changes in code |"
   ]
  },
  {
   "cell_type": "markdown",
   "id": "0d1738f0-d31e-4f8f-9108-557253bae70c",
   "metadata": {},
   "source": [
    "Arithmetic Expressions\n",
    "In this section, we will explore some basic arithmetic expressions.\n",
    "Such as Multiplying and Adding Numbers"
   ]
  },
  {
   "cell_type": "code",
   "execution_count": 5,
   "id": "0da28c12-e269-4a47-bbbb-52278767bc8e",
   "metadata": {},
   "outputs": [
    {
     "name": "stdout",
     "output_type": "stream",
     "text": [
      "Product of a and b is: 35\n",
      "sum of numbers is: 13\n"
     ]
    }
   ],
   "source": [
    "# Multiplying two numbers\n",
    "a = 5\n",
    "b = 7\n",
    "product = a * b\n",
    "print(f'Product of a and b is: {product}')\n",
    "\n",
    "# Adding two numbers\n",
    "x = 10\n",
    "y = 3\n",
    "sum_of_numbers = x + y\n",
    "print(f'sum of numbers is: {sum_of_numbers}')"
   ]
  },
  {
   "cell_type": "code",
   "execution_count": 6,
   "id": "035834b9-5ab3-4643-80cf-da02c8855dc0",
   "metadata": {},
   "outputs": [
    {
     "name": "stdout",
     "output_type": "stream",
     "text": [
      "180 minutes is equal to 3.0 hours.\n"
     ]
    }
   ],
   "source": [
    "# Converting minutes to hours\n",
    "minutes = 180\n",
    "hours = minutes / 60\n",
    "print(f\"{minutes} minutes is equal to {hours} hours.\")"
   ]
  },
  {
   "cell_type": "markdown",
   "id": "62113532-75ac-4976-8eee-3e246955adf7",
   "metadata": {},
   "source": [
    "**Objectives**\n",
    "Understand the fundamental programming languages used in data science.\n",
    "Explore the commonly used data science libraries and tools.\n",
    "Perform basic arithmetic operations using Python.\n",
    "Convert time units (minutes to hours)."
   ]
  },
  {
   "cell_type": "markdown",
   "id": "b5100b36-34c9-4bed-b62d-1eff157e3c07",
   "metadata": {},
   "source": [
    "**Author**\n",
    "*Abdulaziz Alshaalan*"
   ]
  }
 ],
 "metadata": {
  "kernelspec": {
   "display_name": "Python 3 (ipykernel)",
   "language": "python",
   "name": "python3"
  },
  "language_info": {
   "codemirror_mode": {
    "name": "ipython",
    "version": 3
   },
   "file_extension": ".py",
   "mimetype": "text/x-python",
   "name": "python",
   "nbconvert_exporter": "python",
   "pygments_lexer": "ipython3",
   "version": "3.12.3"
  }
 },
 "nbformat": 4,
 "nbformat_minor": 5
}
